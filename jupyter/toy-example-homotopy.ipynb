{
 "cells": [
  {
   "cell_type": "markdown",
   "metadata": {},
   "source": [
    "## Computing the degree of a Graph with Homotopy Continuation\n",
    "$$ \\newcommand{\\Q}{\\mathbb{Q}}\\newcommand{\\R}{\\mathbb{R}}\\newcommand{\\C}{\\mathbb{C}}\\newcommand{\\N}{\\mathbb{N}}\\newcommand{\\Sn}{\\mathbb{S}^{n-1} }\\newcommand\\Z{\\mathbb Z}\\renewcommand\\P{\\mathbb P}\\newcommand\\F{\\mathbb F}\\newcommand\\E{\\mathbb E}\\newcommand\\et{\\mathbin{\\&}}\\newcommand\\tens{\\otimes}\\newcommand\\dif{\\mathop{}\\!\\mathrm{d}}\\newcommand{\\norm}[2][]{\\|#2\\|_{#1} }\\newcommand{\\soscone}[1][k]{\\mathrm{SOS}_{#1}}\\DeclareMathOperator{\\hess}{Hess}\\DeclareMathOperator{\\im}{im}\\DeclareMathOperator{\\qf}{qf}\\DeclareMathOperator{\\rk}{rank}\\DeclareMathOperator{\\lcm}{lcm}\\DeclareMathOperator{\\HS}{HS}\\DeclareMathOperator{\\HF}{HF}\\DeclareMathOperator{\\HP}{HP}\n",
    "\\DeclareMathOperator{\\GL}{GL}\\DeclareMathOperator{\\SO}{SO}\\renewcommand{\\O}{\\mathfrak{o}}\\renewcommand{\\Re}{\\mathrm{Re}}\\renewcommand{\\Im}{\\mathrm{Im}}$$"
   ]
  },
  {
   "cell_type": "markdown",
   "metadata": {},
   "source": [
    "It's supposed to be a trivial problem: We are given the graph of a degree-3 polynomial morphism $s$ on $\\R^8$. We want to certify that the degree of graph, seen as a variety defined by the equations\n",
    "$$\n",
    "s(x) - z = 0, \\qquad x\\in \\R^8, z\\in \\R^4 \n",
    "$$\n",
    "is 3. Somehow though, we get as a result **that the degree was 81. How is this possible???**"
   ]
  },
  {
   "cell_type": "code",
   "execution_count": null,
   "metadata": {},
   "outputs": [],
   "source": [
    "# dependencies\n",
    "using pkg;\n",
    "pkg.install(\"DynamicPolynomials\");\n",
    "pkg.install(\"HomotopyContinuation\");"
   ]
  },
  {
   "cell_type": "code",
   "execution_count": 7,
   "metadata": {},
   "outputs": [
    {
     "data": {
      "text/plain": [
       "4-element Array{Polynomial{true,Int64},1}:\n",
       " 6X₁X₃X₅ + X₃³\n",
       " X₁²X₁₀ + 2X₁X₃X₈ + 2X₁X₅X₆ + X₂X₅² + X₃²X₆ + 2X₃X₄X₅\n",
       " 2X₁X₄X₁₀ + 2X₁X₆X₈ + 2X₂X₃X₁₀ + 2X₂X₅X₈ + 2X₃X₄X₈ + X₃X₆² + 2X₄X₅X₆\n",
       " 6X₂X₆X₁₀ + 3X₂X₈² + 3X₄²X₁₀ + 6X₄X₆X₈ + X₆³"
      ]
     },
     "execution_count": 7,
     "metadata": {},
     "output_type": "execute_result"
    }
   ],
   "source": [
    "using DynamicPolynomials\n",
    "using HomotopyContinuation\n",
    "\n",
    "# STEP 1: Let us construct a rather specific but simple morphism\n",
    "F = 2;\n",
    "A = [(a,b,c, i,j,k) for a=1:F,b=1:F,c=1:F for i=-a:a for j=-b:b for k=filter(x -> x == -i-j,-c:c)]\n",
    "M = length(A);\n",
    "\n",
    "C = zeros(F, 2F+1);\n",
    "m = LinearIndices(C);\n",
    "n = length(m);\n",
    "@polyvar X[m];\n",
    "\n",
    "# s: some polynomial morphism (i.e. vector of polynomials)\n",
    "# the entries of s are homogeneous of degree 3 \n",
    "s = [sum(X[a,a+1+i]*X[b,b+1+j]*X[c,c+1+k] for i=-a:a for j=-b:b for k=-c:c if i+j+k == 0) for a=1:F,b=1:F,c=1:F if abs(b-c) <= a <= b+c ];\n",
    "s = unique(s)"
   ]
  },
  {
   "cell_type": "code",
   "execution_count": 8,
   "metadata": {},
   "outputs": [
    {
     "data": {
      "text/plain": [
       "System of length 4\n",
       " 13 variables: X₁, X₂, X₃, X₄, X₅, X₆, X₈, X₁₀, Z₁, Z₂, Z₃, Z₄, Z0\n",
       "\n",
       " -Z0^2*Z₁ + 6*X₁*X₃*X₅ + X₃^3\n",
       " X₁^2*X₁₀ + X₂*X₅^2 + X₃^2*X₆ - Z0^2*Z₂ + 2*X₁*X₃*X₈ + 2*X₁*X₅*X₆ + 2*X₃*X₄*X₅\n",
       " X₃*X₆^2 - Z0^2*Z₃ + 2*X₁*X₄*X₁₀ + 2*X₁*X₆*X₈ + 2*X₂*X₃*X₁₀ + 2*X₂*X₅*X₈ + 2*X₃*X₄*X₈ + 2*X₄*X₅*X₆\n",
       " 3*X₂*X₈^2 + 3*X₄^2*X₁₀ - Z0^2*Z₄ + 6*X₂*X₆*X₁₀ + 6*X₄*X₆*X₈ + X₆^3"
      ]
     },
     "execution_count": 8,
     "metadata": {},
     "output_type": "execute_result"
    }
   ],
   "source": [
    "# define graph of s\n",
    "@polyvar Z[1:length(s)];\n",
    "codim = length(s);\n",
    "\n",
    "@polyvar Z0 # to make things homogeneous. Not sure if necessary\n",
    "F = System(s- Z0^2 .* Z)\n"
   ]
  },
  {
   "cell_type": "code",
   "execution_count": 9,
   "metadata": {},
   "outputs": [
    {
     "name": "stdout",
     "output_type": "stream",
     "text": [
      "\u001b[32mTracking 81 paths... 100%|██████████████████████████████| Time: 0:00:07\u001b[39m\n",
      "\u001b[34m  # paths tracked:                  81\u001b[39m\n",
      "\u001b[34m  # non-singular solutions (real):  81 (0)\u001b[39m\n",
      "\u001b[34m  # singular endpoints (real):      0 (0)\u001b[39m\n",
      "\u001b[34m  # total solutions (real):         81 (0)\u001b[39m\n"
     ]
    },
    {
     "data": {
      "text/plain": [
       "Witness set for dimension 8 of degree 81"
      ]
     },
     "execution_count": 9,
     "metadata": {},
     "output_type": "execute_result"
    }
   ],
   "source": [
    "witness = witness_set(F)"
   ]
  },
  {
   "cell_type": "code",
   "execution_count": 10,
   "metadata": {},
   "outputs": [
    {
     "data": {
      "text/plain": [
       "81"
      ]
     },
     "execution_count": 10,
     "metadata": {},
     "output_type": "execute_result"
    }
   ],
   "source": [
    "degree(witness)"
   ]
  },
  {
   "cell_type": "code",
   "execution_count": null,
   "metadata": {},
   "outputs": [],
   "source": []
  }
 ],
 "metadata": {
  "kernelspec": {
   "display_name": "Julia 1.4.1",
   "language": "julia",
   "name": "julia-1.4"
  },
  "language_info": {
   "file_extension": ".jl",
   "mimetype": "application/julia",
   "name": "julia",
   "version": "1.4.1"
  }
 },
 "nbformat": 4,
 "nbformat_minor": 4
}
