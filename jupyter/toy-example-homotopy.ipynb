{
 "cells": [
  {
   "cell_type": "markdown",
   "metadata": {},
   "source": [
    "## Computing the degree of a Graph with Homotopy Continuation\n",
    "$$ \\newcommand{\\Q}{\\mathbb{Q}}\\newcommand{\\R}{\\mathbb{R}}\\newcommand{\\C}{\\mathbb{C}}\\newcommand{\\N}{\\mathbb{N}}\\newcommand{\\Sn}{\\mathbb{S}^{n-1} }\\newcommand\\Z{\\mathbb Z}\\renewcommand\\P{\\mathbb P}\\newcommand\\F{\\mathbb F}\\newcommand\\E{\\mathbb E}\\newcommand\\et{\\mathbin{\\&}}\\newcommand\\tens{\\otimes}\\newcommand\\dif{\\mathop{}\\!\\mathrm{d}}\\newcommand{\\norm}[2][]{\\|#2\\|_{#1} }\\newcommand{\\soscone}[1][k]{\\mathrm{SOS}_{#1}}\\DeclareMathOperator{\\hess}{Hess}\\DeclareMathOperator{\\im}{im}\\DeclareMathOperator{\\qf}{qf}\\DeclareMathOperator{\\rk}{rank}\\DeclareMathOperator{\\lcm}{lcm}\\DeclareMathOperator{\\HS}{HS}\\DeclareMathOperator{\\HF}{HF}\\DeclareMathOperator{\\HP}{HP}\n",
    "\\DeclareMathOperator{\\GL}{GL}\\DeclareMathOperator{\\SO}{SO}\\renewcommand{\\O}{\\mathfrak{o}}\\renewcommand{\\Re}{\\mathrm{Re}}\\renewcommand{\\Im}{\\mathrm{Im}}$$"
   ]
  },
  {
   "cell_type": "markdown",
   "metadata": {},
   "source": [
    "It's supposed to be a trivial problem: We are given the graph of a degree-3 polynomial morphism $s$ on $\\R^8$. We want to certify that the degree of graph, seen as a variety defined by the equations\n",
    "$$\n",
    "s(x) - z = 0, \\qquad x\\in \\R^8, z\\in \\R^4 \n",
    "$$\n",
    "is 3. Somehow though, we get as a result **that the degree was 81. How is this possible???**"
   ]
  },
  {
   "cell_type": "code",
   "execution_count": null,
   "metadata": {},
   "outputs": [],
   "source": [
    "using DynamicPolynomials\n",
    "using HomotopyContinuation\n",
    "\n",
    "# STEP 1: Let us construct a rather specific but simple morphism\n",
    "F = 2;\n",
    "A = [(a,b,c, i,j,k) for a=1:F,b=1:F,c=1:F for i=-a:a for j=-b:b for k=filter(x -> x == -i-j,-c:c)]\n",
    "M = length(A);\n",
    "\n",
    "C = zeros(F, 2F+1);\n",
    "m = LinearIndices(C);\n",
    "n = length(m);\n",
    "@polyvar X[m];\n",
    "\n",
    "# s: some polynomial morphism (i.e. vector of polynomials)\n",
    "# the entries of s are homogeneous of degree 3 \n",
    "s = [sum(X[a,a+1+i]*X[b,b+1+j]*X[c,c+1+k] for i=-a:a for j=-b:b for k=-c:c if i+j+k == 0) for a=1:F,b=1:F,c=1:F if abs(b-c) <= a <= b+c ];\n",
    "s = unique(s)"
   ]
  },
  {
   "cell_type": "code",
   "execution_count": null,
   "metadata": {},
   "outputs": [],
   "source": [
    "# define graph of s\n",
    "@polyvar Z[1:length(s)];\n",
    "codim = length(s);\n",
    "\n",
    "@polyvar Z0 # to make things homogeneous. Not sure if necessary\n",
    "F = System(s- Z0^2 .* Z)\n"
   ]
  },
  {
   "cell_type": "code",
   "execution_count": null,
   "metadata": {},
   "outputs": [],
   "source": [
    "witness = witness_set(F)"
   ]
  },
  {
   "cell_type": "code",
   "execution_count": null,
   "metadata": {},
   "outputs": [],
   "source": [
    "degree(witness)"
   ]
  },
  {
   "cell_type": "code",
   "execution_count": null,
   "metadata": {},
   "outputs": [],
   "source": []
  }
 ],
 "metadata": {
  "kernelspec": {
   "display_name": "Julia 1.4.1",
   "language": "julia",
   "name": "julia-1.4"
  },
  "language_info": {
   "file_extension": ".jl",
   "mimetype": "application/julia",
   "name": "julia",
   "version": "1.4.1"
  }
 },
 "nbformat": 4,
 "nbformat_minor": 4
}
