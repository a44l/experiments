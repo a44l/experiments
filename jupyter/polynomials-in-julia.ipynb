{
 "cells": [
  {
   "cell_type": "markdown",
   "metadata": {},
   "source": [
    "# Willkommen in Julia!\n",
    "\n",
    "**Julia** ist eine der schönsten real existierenden Programmiersprachen. Wir nutzen sie mit dem Editor **Jupyterlab**, der uns die Ergebnisse sofort ausgibt (ähnlich wie in _Mathematica_ oder _Mupad_). Das ist super, um die Sprache zu lernen! Wir können mit den Tasten `a` bzw `b` einen neuen Input-Block unter bzw über dem derzeit ausgewählten erstellen und dort `2+2` ausrechnen. (Beachte, dass du nicht gerade _dieses_ Fenster hier editierst. Den Editiermodus verlässt du mit `Escape`. Du betrittst den Editiermodus mit `Enter`.) Den ausgewählten Block änderst du mit den _Pfeiltasten_.  Du berechnest ein Codefeld, indem du  es auswählst und `Shift+Enter` drückst. Probiere es ruhig selbst aus:"
   ]
  },
  {
   "cell_type": "code",
   "execution_count": 2,
   "metadata": {},
   "outputs": [
    {
     "data": {
      "text/plain": [
       "4"
      ]
     },
     "execution_count": 2,
     "metadata": {},
     "output_type": "execute_result"
    }
   ],
   "source": [
    "2+2"
   ]
  },
  {
   "cell_type": "code",
   "execution_count": 3,
   "metadata": {},
   "outputs": [
    {
     "data": {
      "text/plain": [
       "1.6439345666815615"
      ]
     },
     "execution_count": 3,
     "metadata": {},
     "output_type": "execute_result"
    }
   ],
   "source": [
    "sum(1/n^2 for n=1:1000)"
   ]
  },
  {
   "cell_type": "markdown",
   "metadata": {},
   "source": [
    "Faszinierend! Julia-Code sieht (zumindest oberflächlich) aus wie eine Mischung aus _Matlab_ und _Python_. Das schöne daran ist, dass viele Definitionen im Prinzip fast genauso aussehen, wie wenn man sie auf einer Tafel aufschreiben würde. Wollen wir etwa die Matrix $A$\n",
    "definieren mit Einträgen\n",
    "$$A_{ij} = i+n\\cdot (j-1) \\qquad \\forall{i=1,\\ldots,n, j=1,\\ldots,n} $$\n",
    "so können wir schreiben:"
   ]
  },
  {
   "cell_type": "code",
   "execution_count": 4,
   "metadata": {},
   "outputs": [
    {
     "data": {
      "text/plain": [
       "4×4 Array{Int64,2}:\n",
       " 1  5   9  13\n",
       " 2  6  10  14\n",
       " 3  7  11  15\n",
       " 4  8  12  16"
      ]
     },
     "execution_count": 4,
     "metadata": {},
     "output_type": "execute_result"
    }
   ],
   "source": [
    "n = 4;\n",
    "A = [i + n*(j-1) for i=1:n,j=1:n]"
   ]
  },
  {
   "cell_type": "markdown",
   "metadata": {},
   "source": [
    "Die Sprache **Julia** und der Editor **Jupyterlab** sind zwei unabhängige Bestandteile unseres Kurses. Man kann Jupyterlab auch mit anderen Sprachen verwenden, genauso wie man Julia auch als reine Kommandozeilenanwendung ohne Editor nutzen kann. Das würde ich für Anfänger jedoch nicht empfehlen."
   ]
  },
  {
   "cell_type": "markdown",
   "metadata": {},
   "source": [
    "$\\newcommand{\\Q}{\\mathbb{Q}}\n",
    "\\newcommand{\\R}{\\mathbb{R}}\n",
    "\\newcommand{\\C}{\\mathbb{C}}\n",
    "\\newcommand{\\N}{\\mathbb{N}}\n",
    "\\newcommand{\\Sn}{\\mathbb{S}^{n-1} }\n",
    "\\newcommand\\Z{\\mathbb Z}$Aber **Jupyterlab** kann noch mehr als nur Code ausführen:\n",
    "1. Mit `m` änderst du den Modus eines Eingabefelds von _Code_ zu _Markdown_. In Markdown kannst du deine Gedanken mit einer _einfachen_, aber **ausdrucksstarken** Formatierung niederschreiben . Denke immer daran: Jeder Code ist nur so gut wie seine Dokumentation! Wann immer du am Rechner Experimente ausführst, solltest du auch zugleich aufschreiben, was du dir dabei gedacht ~~(oder auch nicht gedacht)~~ hast. So weißt du auch in einigen Wochen noch, was du eigentlich tun wolltest!\n",
    "2. In _Markdown_-Feldern können wir **Latex** nutzen: Sei $G = (V,E)$ ein Graph mit Knotenmenge $V = \\{1,\\ldots, n\\}$ für ein $n\\in \\N$. Wir fassen $E\\in \\{0,1\\}^{n \\times n} $ als _symmetrische Matrix_ auf. Dies ist die sogenannte _Adjazenzmatrix_ von $G$, welche die Kantenrelation beschreibt.\n",
    "\n",
    "Es gibt noch zahlreiche weitere [Jupyterlab-Shortcuts](https://blog.ja-ke.tech/assets/jupyterlab-shortcuts/Shortcuts.pdf). Wir wollen nun die Eigenwerte eines _zufälligen gleichverteilten Graphen_, d.h. mit Adjazenzmatrix $E\\sim \\{0,1\\}^{n \\times n} $, berechnen."
   ]
  },
  {
   "cell_type": "code",
   "execution_count": 14,
   "metadata": {},
   "outputs": [
    {
     "data": {
      "text/plain": [
       "6×6 Array{Int64,2}:\n",
       " 1  0  1  1  1  0\n",
       " 0  0  0  0  1  0\n",
       " 1  0  0  0  1  1\n",
       " 0  0  1  0  1  1\n",
       " 0  0  0  0  1  0\n",
       " 1  0  1  1  0  0"
      ]
     },
     "execution_count": 14,
     "metadata": {},
     "output_type": "execute_result"
    }
   ],
   "source": [
    "n = 6;\n",
    "A = rand(n,n) # random matrix with entries in [0,1]\n",
    "E = [Int(round(a, digits=0)) for a in A] # note: E is not yet symmetric!"
   ]
  },
  {
   "cell_type": "markdown",
   "metadata": {},
   "source": [
    "Übrigens: Will man zufällige Einträge in $\\{0,1\\}$ statt $[0,1]$,  kann man genauso gut auch schreiben:  \n",
    "`E = [rand(0:1) for i=1:n, j=1:n]`  \n",
    "Oder noch kürzer:  \n",
    "`E = rand(0:1, n,n)`  \n",
    "Wie man sieht führen viele Wege nach Rom...  \n",
    "\n",
    "Nun müssen wir unsere Matrix aber noch symmetrisch machen:"
   ]
  },
  {
   "cell_type": "code",
   "execution_count": 15,
   "metadata": {},
   "outputs": [
    {
     "data": {
      "text/plain": [
       "6×6 Array{Bool,2}:\n",
       " 0  1  1  1  1  1\n",
       " 0  0  1  1  1  1\n",
       " 0  0  0  1  1  1\n",
       " 0  0  0  0  1  1\n",
       " 0  0  0  0  0  1\n",
       " 0  0  0  0  0  0"
      ]
     },
     "execution_count": 15,
     "metadata": {},
     "output_type": "execute_result"
    }
   ],
   "source": [
    "lowertriag = [i > j for i=1:n, j=1:n] # this is how we get the strictly lower triagonal \n",
    "uppertriag = [i < j for i=1:n, j=1:n] # likewise"
   ]
  },
  {
   "cell_type": "code",
   "execution_count": 16,
   "metadata": {},
   "outputs": [
    {
     "data": {
      "text/plain": [
       "6×6 Array{Int64,2}:\n",
       " 0  0  1  1  1  0\n",
       " 0  0  0  0  1  0\n",
       " 1  0  0  0  1  1\n",
       " 1  0  0  0  1  1\n",
       " 1  1  1  1  0  0\n",
       " 0  0  1  1  0  0"
      ]
     },
     "execution_count": 16,
     "metadata": {},
     "output_type": "execute_result"
    }
   ],
   "source": [
    "# die praktische Listennotation funktioniert sogar mit Zuweisungen.\n",
    "[E[i,j] = E[j,i] for i=1:n,j=1:n if i> j ]\n",
    "[E[i,j] = 0      for i=1:n,j=1:n if i==j ]\n",
    "E\n",
    "\n"
   ]
  },
  {
   "cell_type": "markdown",
   "metadata": {},
   "source": [
    "Streng genommen ist das hier nicht besonders effizient: Wir haben erst eine volle Matrix ausgewürfelt, um dann etwa die Hälfte der Einträge zu verwerfen. Das kannst du gerne optimieren, wenn du es hinkriegst!"
   ]
  },
  {
   "cell_type": "markdown",
   "metadata": {},
   "source": [
    "Die Eigenwerte der Adjazenzmatrix eines Graphen tragen oftmals nützliche _globale_ Informationen über die _Struktur des Graphen_. Der genaue Zusammenhang zwischen dem Graphen und seinen Eigenwerten ist für uns aktuell noch mysteriös und wird im Laufe der Vorlesung hoffentlich etwas klarer werden. Für den Moment begnügen wir uns damit, die Eigenwerte unserer Adjazenzmatrix zu berechnen und zu bewundern.  Hierfür müssen wir das erste Mal ein **Paket einbinden**. Dieses hier ist in Julia standardmäßig schon installiert, daher reicht es, Julia zu sagen, dass wir es benutzen wollen:"
   ]
  },
  {
   "cell_type": "code",
   "execution_count": 17,
   "metadata": {},
   "outputs": [
    {
     "data": {
      "text/plain": [
       "6-element Array{Float64,1}:\n",
       " -2.2403421067592486\n",
       " -1.3683708672043942\n",
       " -3.211546358915673e-17\n",
       "  2.670573269090226e-16\n",
       "  0.664833834674929\n",
       "  2.9438791392887116"
      ]
     },
     "execution_count": 17,
     "metadata": {},
     "output_type": "execute_result"
    }
   ],
   "source": [
    "using LinearAlgebra # we need a package to compute eigenvalues\n",
    "eigvals(E)"
   ]
  },
  {
   "cell_type": "markdown",
   "metadata": {},
   "source": [
    "Kleiner Reality-Check, um zu sehen, ob wir groben Unsinn ausgerechnet haben:"
   ]
  },
  {
   "cell_type": "code",
   "execution_count": 18,
   "metadata": {},
   "outputs": [
    {
     "data": {
      "text/plain": [
       "0"
      ]
     },
     "execution_count": 18,
     "metadata": {},
     "output_type": "execute_result"
    }
   ],
   "source": [
    "tr(E) # ist Null "
   ]
  },
  {
   "cell_type": "code",
   "execution_count": 19,
   "metadata": {},
   "outputs": [
    {
     "data": {
      "text/plain": [
       "-1.7763568394002505e-15"
      ]
     },
     "execution_count": 19,
     "metadata": {},
     "output_type": "execute_result"
    }
   ],
   "source": [
    "sum(eigvals(E)) # sollte theoretisch auch Null sein, aber Numerik..."
   ]
  },
  {
   "cell_type": "markdown",
   "metadata": {},
   "source": [
    "### Ein etwas anspruchsvolleres Beispiel: $d$-reguläre Graphen\n",
    "\n",
    "Wir konstruieren nun einen _$d$-regulären_ Graphen $G$. Das soll heißen: Jeder Knoten von $G$ ist mit genau $d$ anderen Knoten verbunden. Leider enthält der Code einen _subtilen_, aber **bösartigen** Fehler. Finde ihn **oder** schreibe von Grund auf einen besseren! :)"
   ]
  },
  {
   "cell_type": "code",
   "execution_count": 22,
   "metadata": {},
   "outputs": [
    {
     "name": "stdout",
     "output_type": "stream",
     "text": [
      "Any[4, 3, 6]Any[4, 3, 5]Any[5]Any[6]Any[6]Any[]"
     ]
    },
    {
     "data": {
      "text/plain": [
       "6×6 Array{Int64,2}:\n",
       " 0  0  1  1  0  1\n",
       " 0  0  1  1  1  0\n",
       " 1  1  0  0  1  0\n",
       " 1  1  0  0  0  1\n",
       " 0  1  1  0  0  1\n",
       " 1  0  0  1  1  0"
      ]
     },
     "execution_count": 22,
     "metadata": {},
     "output_type": "execute_result"
    }
   ],
   "source": [
    "E = [0 for i=1:n,j=1:n];\n",
    "d = 3; # e.g. let G be 3-regular\n",
    "\n",
    "\n",
    "# for each node v we choose d entries from the column belonging to v\n",
    "function chooseEntriesFrom(v, numEntries) \n",
    "    result = [];\n",
    "    for k in 1:numEntries\n",
    "        availEntries = [i for i in v if !(i in result)];\n",
    "        if isempty(availEntries)\n",
    "            return result;\n",
    "        end\n",
    "        # man beachte das Ausrufezeichen hinter append: Es weist darauf hin, dass append! das Array \"result\" verändert, statt ein neues zu erstellen. \n",
    "        append!(result, availEntries[rand(1:length(availEntries))]); \n",
    "    end \n",
    "    return result;\n",
    "end\n",
    "\n",
    "# then, do this for all nodes:\n",
    "for j=1:n\n",
    "    idx = chooseEntriesFrom([i for i=j:n if i!=j],d-sum(E[1:j,j]));\n",
    "    print(idx);\n",
    "    E[idx,j] .= 1;\n",
    "    E[j,idx] .= 1;\n",
    "end\n",
    "E\n",
    "\n",
    "# Übung für dich: Dieser Code ist hässlich. Kannst du einen schöneren und richtigeren Code schreiben?"
   ]
  },
  {
   "cell_type": "code",
   "execution_count": 23,
   "metadata": {},
   "outputs": [
    {
     "data": {
      "text/plain": [
       "6-element Array{Float64,1}:\n",
       " -2.0000000000000004\n",
       " -1.9999999999999998\n",
       " -3.210477034487543e-16\n",
       "  1.3828883856350504e-16\n",
       "  1.0000000000000004\n",
       "  3.0"
      ]
     },
     "execution_count": 23,
     "metadata": {},
     "output_type": "execute_result"
    }
   ],
   "source": [
    "eigvals(E)"
   ]
  },
  {
   "cell_type": "markdown",
   "metadata": {},
   "source": [
    "Lösung: Der Code kann in eine _Sackgasse_ laufen, bei der die Knoten ausgehen, bevor jeder Knoten drei Partner hat."
   ]
  },
  {
   "cell_type": "markdown",
   "metadata": {},
   "source": [
    "**Beachte:** Wenn der Graph regulär ist, dann ist sein _größter Eigenwert_ immer die _Regularität_ des Graphen, in diesem Fall also 3. \n",
    "Du kannst den Code oben ein paar Mal durchführen, bist du eine 3-reguläre Adjazenzmatrix erhältst, und diesen Sachverhalt für dich selbst verifizieren. \n",
    "\n",
    ">Hast du eine Idee, wieso das gelten könnte? Was könnte ein zugehöriger Eigenvektor sein? Finde diese Antwort entweder durch **Nachdenken** oder, indem du den Befehl für die Eigenvektoren in [Julias Dokumentation](https://docs.julialang.org/en/v1/search/?q=) suchst.\n"
   ]
  },
  {
   "cell_type": "markdown",
   "metadata": {},
   "source": [
    "### Polynome in Julia\n",
    "\n",
    "Zum Abschluss wollen wir noch ein bisschen mit **Polynomen** spielen. Lasst uns dazu erst das zugehörige Paket herunterladen. Der Code für die Installation muss nur einmal ausgeführt werden, daher ist er Standardmäßig auskommentiert."
   ]
  },
  {
   "cell_type": "code",
   "execution_count": null,
   "metadata": {},
   "outputs": [],
   "source": [
    "# import Pkg; Pkg.add(\"MultivariatePolynomials\"); "
   ]
  },
  {
   "cell_type": "markdown",
   "metadata": {},
   "source": [
    "Der nun folgende Code schreibt eine ganz allgemeine quadratische Form auf, deren Koeffizienten **Variablen** sind."
   ]
  },
  {
   "cell_type": "code",
   "execution_count": 24,
   "metadata": {},
   "outputs": [
    {
     "data": {
      "text/latex": [
       "$$ X_{1}^{2}G_{1} + X_{1}X_{2}G_{2} + X_{1}X_{2}G_{7} + X_{1}X_{3}G_{3} + X_{1}X_{3}G_{13} + X_{1}X_{4}G_{4} + X_{1}X_{4}G_{19} + X_{1}X_{5}G_{5} + X_{1}X_{5}G_{25} + X_{1}X_{6}G_{6} + X_{1}X_{6}G_{31} + X_{2}^{2}G_{8} + X_{2}X_{3}G_{9} + X_{2}X_{3}G_{14} + X_{2}X_{4}G_{10} + X_{2}X_{4}G_{20} + X_{2}X_{5}G_{11} + X_{2}X_{5}G_{26} + X_{2}X_{6}G_{12} + X_{2}X_{6}G_{32} + X_{3}^{2}G_{15} + X_{3}X_{4}G_{16} + X_{3}X_{4}G_{21} + X_{3}X_{5}G_{17} + X_{3}X_{5}G_{27} + X_{3}X_{6}G_{18} + X_{3}X_{6}G_{33} + X_{4}^{2}G_{22} + X_{4}X_{5}G_{23} + X_{4}X_{5}G_{28} + X_{4}X_{6}G_{24} + X_{4}X_{6}G_{34} + X_{5}^{2}G_{29} + X_{5}X_{6}G_{30} + X_{5}X_{6}G_{35} + X_{6}^{2}G_{36} $$"
      ],
      "text/plain": [
       "X₁²G₁ + X₁X₂G₂ + X₁X₂G₇ + X₁X₃G₃ + X₁X₃G₁₃ + X₁X₄G₄ + X₁X₄G₁₉ + X₁X₅G₅ + X₁X₅G₂₅ + X₁X₆G₆ + X₁X₆G₃₁ + X₂²G₈ + X₂X₃G₉ + X₂X₃G₁₄ + X₂X₄G₁₀ + X₂X₄G₂₀ + X₂X₅G₁₁ + X₂X₅G₂₆ + X₂X₆G₁₂ + X₂X₆G₃₂ + X₃²G₁₅ + X₃X₄G₁₆ + X₃X₄G₂₁ + X₃X₅G₁₇ + X₃X₅G₂₇ + X₃X₆G₁₈ + X₃X₆G₃₃ + X₄²G₂₂ + X₄X₅G₂₃ + X₄X₅G₂₈ + X₄X₆G₂₄ + X₄X₆G₃₄ + X₅²G₂₉ + X₅X₆G₃₀ + X₅X₆G₃₅ + X₆²G₃₆"
      ]
     },
     "execution_count": 24,
     "metadata": {},
     "output_type": "execute_result"
    }
   ],
   "source": [
    "using DynamicPolynomials\n",
    "@polyvar X[1:n];\n",
    "X*transpose(X)\n",
    "idx = [LinearIndices(zeros(n,n))[i,j] for i=1:n,j=1:n];\n",
    "@polyvar G[idx]; \n",
    "transpose(X)*G*X"
   ]
  },
  {
   "cell_type": "markdown",
   "metadata": {},
   "source": [
    " Häufig ist es auch interessant zu wissen, wie man ein Polynom **linearisiert**, das heißt, alle Monome durch neue Variablen ersetzt. In Julia ist das sehr einfach:"
   ]
  },
  {
   "cell_type": "code",
   "execution_count": 26,
   "metadata": {},
   "outputs": [
    {
     "data": {
      "text/latex": [
       "$$ 7G_{1} + 2G_{2} + 2G_{3} + 2G_{4} + 2G_{5} + 2G_{6} + 7G_{7} + 2G_{8} + 2G_{9} + 2G_{10} + 2G_{11} + 7G_{12} + 2G_{13} + 2G_{14} + 2G_{15} + 7G_{16} + 2G_{17} + 2G_{18} + 7G_{19} + 2G_{20} + 7G_{21} $$"
      ],
      "text/plain": [
       "7G₁ + 2G₂ + 2G₃ + 2G₄ + 2G₅ + 2G₆ + 7G₇ + 2G₈ + 2G₉ + 2G₁₀ + 2G₁₁ + 7G₁₂ + 2G₁₃ + 2G₁₄ + 2G₁₅ + 7G₁₆ + 2G₁₇ + 2G₁₈ + 7G₁₉ + 2G₂₀ + 7G₂₁"
      ]
     },
     "execution_count": 26,
     "metadata": {},
     "output_type": "execute_result"
    }
   ],
   "source": [
    "# alle Monome von Grad 2 \n",
    "deg2mons = unique(X*transpose(X));\n",
    "# bzw allgemeiner alle Monome von Grad d (hier d = 2) in X mit vorgefertigter Funktion\n",
    "d = 2;\n",
    "mon = monomials(X,d)\n",
    "\n",
    "# linearisiere den Monomvektor: Jedes Monom wird durch eine neue Variable ersetzt.\n",
    "@polyvar G[1:length(mon)] \n",
    "\n",
    "# linearisiert ein homogenes Polynom p vom Grad d\n",
    "function linearize(poly)\n",
    "    # w = monomials(poly);\n",
    "    G_sel = [G[i] for i in 1:length(G) if mon[i] in monomials(poly)]\n",
    "    return transpose(G_sel)*coefficients(poly)\n",
    "end\n",
    "\n",
    "# some arbitrary form of degree 2\n",
    "p = sum((X[i]+X[j])*X[i] for i=1:n,j=1:n);\n",
    "p\n",
    "\n",
    "#linearize(X[1]^2 + X[2]^2);\n",
    "linearize(p)\n",
    "\n",
    "\n",
    "# Übung: Überlege dir, ob dieser Code auch für Polynome funktioniert, in denen nicht alle Monome von Grad 2 auftauchen! Wieso bzw. wieso nicht? "
   ]
  },
  {
   "cell_type": "markdown",
   "metadata": {},
   "source": [
    "#### Operationen auf den Koeffizienten\n",
    "\n"
   ]
  },
  {
   "cell_type": "code",
   "execution_count": 17,
   "metadata": {},
   "outputs": [
    {
     "data": {
      "text/latex": [
       "$$ 18X_{1}^{2} + 5X_{1}X_{2} + 5X_{1}X_{3} + 5X_{1}X_{4} + 5X_{1}X_{5} + 5X_{1}X_{6} + 18X_{2}^{2} + 5X_{2}X_{3} + 5X_{2}X_{4} + 5X_{2}X_{5} + 5X_{2}X_{6} + 18X_{3}^{2} + 5X_{3}X_{4} + 5X_{3}X_{5} + 5X_{3}X_{6} + 18X_{4}^{2} + 5X_{4}X_{5} + 5X_{4}X_{6} + 18X_{5}^{2} + 5X_{5}X_{6} + 18X_{6}^{2} $$"
      ],
      "text/plain": [
       "18X₁² + 5X₁X₂ + 5X₁X₃ + 5X₁X₄ + 5X₁X₅ + 5X₁X₆ + 18X₂² + 5X₂X₃ + 5X₂X₄ + 5X₂X₅ + 5X₂X₆ + 18X₃² + 5X₃X₄ + 5X₃X₅ + 5X₃X₆ + 18X₄² + 5X₄X₅ + 5X₄X₆ + 18X₅² + 5X₅X₆ + 18X₆²"
      ]
     },
     "execution_count": 17,
     "metadata": {},
     "output_type": "execute_result"
    }
   ],
   "source": [
    "2.5p\n",
    "\n",
    "transpose(monomials(2.5p))*[Int(i) for i in coefficients(round(2.5p)) ]"
   ]
  },
  {
   "cell_type": "markdown",
   "metadata": {},
   "source": [
    "#### Substitution"
   ]
  },
  {
   "cell_type": "code",
   "execution_count": 27,
   "metadata": {},
   "outputs": [
    {
     "data": {
      "text/latex": [
       "$$ X_{2}^{2} + X_{4}^{2} + X_{5}^{2} + X_{6}^{2} + 13 $$"
      ],
      "text/plain": [
       "X₂² + X₄² + X₅² + X₆² + 13"
      ]
     },
     "execution_count": 27,
     "metadata": {},
     "output_type": "execute_result"
    }
   ],
   "source": [
    "using DynamicPolynomials\n",
    "A = rand(n, n)\n",
    "p = sum(X .* X) # X_1^2 + X_2^2 + ... + X_n^2\n",
    "subs(p, X[1]=>2, X[3]=>3)"
   ]
  },
  {
   "cell_type": "code",
   "execution_count": 20,
   "metadata": {},
   "outputs": [
    {
     "data": {
      "text/latex": [
       "$$ 2.5235243296849434X_{1}^{2} + 4.529079314269755X_{1}X_{2} + 2.658650132120613X_{1}X_{3} + 2.851487825489705X_{1}X_{4} + 4.638064829621721X_{1}X_{5} + 3.097052158890456X_{1}X_{6} + 2.376064952382795X_{2}^{2} + 3.0124556667436875X_{2}X_{3} + 2.8828213493551917X_{2}X_{4} + 4.234601714973445X_{2}X_{5} + 2.8835701795131676X_{2}X_{6} + 1.5350577680410147X_{3}^{2} + 2.4312892681358855X_{3}X_{4} + 3.2933244663987713X_{3}X_{5} + 1.6071570898042302X_{3}X_{6} + 2.9970047397157304X_{4}^{2} + 4.471567216744107X_{4}X_{5} + 2.2123895739032133X_{4}X_{6} + 2.8611809786753195X_{5}^{2} + 2.96648390455783X_{5}X_{6} + 0.9955853095065348X_{6}^{2} $$"
      ],
      "text/plain": [
       "2.5235243296849434X₁² + 4.529079314269755X₁X₂ + 2.658650132120613X₁X₃ + 2.851487825489705X₁X₄ + 4.638064829621721X₁X₅ + 3.097052158890456X₁X₆ + 2.376064952382795X₂² + 3.0124556667436875X₂X₃ + 2.8828213493551917X₂X₄ + 4.234601714973445X₂X₅ + 2.8835701795131676X₂X₆ + 1.5350577680410147X₃² + 2.4312892681358855X₃X₄ + 3.2933244663987713X₃X₅ + 1.6071570898042302X₃X₆ + 2.9970047397157304X₄² + 4.471567216744107X₄X₅ + 2.2123895739032133X₄X₆ + 2.8611809786753195X₅² + 2.96648390455783X₅X₆ + 0.9955853095065348X₆²"
      ]
     },
     "execution_count": 20,
     "metadata": {},
     "output_type": "execute_result"
    }
   ],
   "source": [
    "p(X=>A*vec(X)) # corresponds to dot(A*x, A*x), need vec to convert the tuple to a vector"
   ]
  }
 ],
 "metadata": {
  "kernelspec": {
   "display_name": "Julia 1.4.1",
   "language": "julia",
   "name": "julia-1.4"
  },
  "language_info": {
   "file_extension": ".jl",
   "mimetype": "application/julia",
   "name": "julia",
   "version": "1.4.1"
  }
 },
 "nbformat": 4,
 "nbformat_minor": 4
}
